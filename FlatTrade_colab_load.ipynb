{
  "nbformat": 4,
  "nbformat_minor": 0,
  "metadata": {
    "colab": {
      "provenance": [],
      "authorship_tag": "ABX9TyNR76rHLRBsJIU0RJCHny90",
      "include_colab_link": true
    },
    "kernelspec": {
      "name": "python3",
      "display_name": "Python 3"
    },
    "language_info": {
      "name": "python"
    }
  },
  "cells": [
    {
      "cell_type": "markdown",
      "metadata": {
        "id": "view-in-github",
        "colab_type": "text"
      },
      "source": [
        "<a href=\"https://colab.research.google.com/github/AdityaDaw/FlatTrade_Colab_Repo/blob/main/FlatTrade_colab_load.ipynb\" target=\"_parent\"><img src=\"https://colab.research.google.com/assets/colab-badge.svg\" alt=\"Open In Colab\"/></a>"
      ]
    },
    {
      "cell_type": "markdown",
      "source": [
        "This is the new file which will load the data from FlatTrade."
      ],
      "metadata": {
        "id": "TvhQNm5AuOVf"
      }
    },
    {
      "cell_type": "code",
      "source": [
        "! pip install pyotp; pip install requests"
      ],
      "metadata": {
        "colab": {
          "base_uri": "https://localhost:8080/"
        },
        "id": "MASPotOG0Joy",
        "outputId": "60a9ef96-7393-4113-adfa-d6d4d7cd13a5"
      },
      "execution_count": 7,
      "outputs": [
        {
          "output_type": "stream",
          "name": "stdout",
          "text": [
            "Requirement already satisfied: pyotp in /usr/local/lib/python3.10/dist-packages (2.9.0)\n",
            "Requirement already satisfied: requests in /usr/local/lib/python3.10/dist-packages (2.31.0)\n",
            "Requirement already satisfied: charset-normalizer<4,>=2 in /usr/local/lib/python3.10/dist-packages (from requests) (3.3.2)\n",
            "Requirement already satisfied: idna<4,>=2.5 in /usr/local/lib/python3.10/dist-packages (from requests) (3.7)\n",
            "Requirement already satisfied: urllib3<3,>=1.21.1 in /usr/local/lib/python3.10/dist-packages (from requests) (2.0.7)\n",
            "Requirement already satisfied: certifi>=2017.4.17 in /usr/local/lib/python3.10/dist-packages (from requests) (2024.2.2)\n"
          ]
        }
      ]
    },
    {
      "cell_type": "code",
      "source": [
        "# In this section we will load all the dependencies\n",
        "import pyotp\n",
        "import requests\n",
        "from urllib.parse import parse_qs, urlparse\n",
        "import hashlib\n",
        "from google.colab import userdata"
      ],
      "metadata": {
        "id": "p9m7xpkauZud"
      },
      "execution_count": 9,
      "outputs": []
    },
    {
      "cell_type": "code",
      "source": [
        "APIKEY = userdata.get('APIKEY')\n",
        "secretKey = userdata.get('APIKEY')\n",
        "totp_key = userdata.get('APIKEY')\n",
        "password = userdata.get('APIKEY')\n",
        "userid = userdata.get('APIKEY')"
      ],
      "metadata": {
        "id": "QUt_LPds33Js"
      },
      "execution_count": null,
      "outputs": []
    }
  ]
}